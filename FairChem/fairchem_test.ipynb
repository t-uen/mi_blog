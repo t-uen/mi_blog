{
 "cells": [
  {
   "cell_type": "code",
   "execution_count": null,
   "id": "613a4045",
   "metadata": {},
   "outputs": [],
   "source": [
    "from ase.io import write\n",
    "from ase.io import Trajectory\n",
    "from ase.visualize import view\n",
    "from ase.md.langevin import Langevin\n",
    "from ase import units\n",
    "\n",
    "from fairchem.core import pretrained_mlip, FAIRChemCalculator\n",
    "\n",
    "from rdkit import Chem\n",
    "from rdkit.Chem import AllChem\n",
    "from ase import Atoms"
   ]
  },
  {
   "cell_type": "markdown",
   "id": "c7cf3987",
   "metadata": {},
   "source": [
    "Molecular Dynamics"
   ]
  },
  {
   "cell_type": "code",
   "execution_count": null,
   "id": "80007870",
   "metadata": {},
   "outputs": [],
   "source": [
    "# 1. tert-butanolのSMILESを作成\n",
    "smiles = \"CC(C)(C)O\"\n",
    "rdmol = Chem.MolFromSmiles(smiles)\n",
    "rdmol = Chem.AddHs(rdmol)\n",
    "\n",
    "# 2. 3D座標を生成\n",
    "AllChem.EmbedMolecule(rdmol, AllChem.ETKDG())\n",
    "AllChem.UFFOptimizeMolecule(rdmol)\n",
    "\n",
    "# 3. 原子の位置と記号を抽出\n",
    "conf = rdmol.GetConformer()\n",
    "positions = np.array([list(conf.GetAtomPosition(i)) for i in range(rdmol.GetNumAtoms())])\n",
    "symbols = [atom.GetSymbol() for atom in rdmol.GetAtoms()]\n",
    "\n",
    "# 4. ASE Atomsオブジェクトを作成\n",
    "mol = Atoms(symbols=symbols, positions=positions)\n",
    "\n",
    "# 5. 真空パディングを追加\n",
    "mol.center(vacuum=5.0)\n",
    "mol.pbc = (False, False, False)\n",
    "\n",
    "# 6. .trajに保存\n",
    "write(\"tBuOH_pre_md.traj\", mol)"
   ]
  },
  {
   "cell_type": "code",
   "execution_count": 5,
   "id": "7bfc53df",
   "metadata": {},
   "outputs": [
    {
     "data": {
      "text/plain": [
       "<Popen: returncode: None args: ['/Users/lpc_0066/anaconda3/envs/fairchem_env...>"
      ]
     },
     "execution_count": 5,
     "metadata": {},
     "output_type": "execute_result"
    }
   ],
   "source": [
    "# Check before running MD\n",
    "traj = Trajectory('tBuOH_pre_md.traj')\n",
    "view(traj) "
   ]
  },
  {
   "cell_type": "code",
   "execution_count": 9,
   "id": "c9244ce7",
   "metadata": {},
   "outputs": [
    {
     "data": {
      "text/plain": [
       "True"
      ]
     },
     "execution_count": 9,
     "metadata": {},
     "output_type": "execute_result"
    }
   ],
   "source": [
    "predictor = pretrained_mlip.get_predict_unit(\"uma-s-1p1\", device=\"cpu\")\n",
    "calc = FAIRChemCalculator(predictor, task_name=\"omol\")\n",
    "\n",
    "# atoms = molecule(\"H2O\")\n",
    "mol.calc = calc\n",
    "\n",
    "dyn = Langevin(\n",
    "    mol,\n",
    "    timestep=0.1 * units.fs,\n",
    "    temperature_K=400,\n",
    "    friction=0.001 / units.fs,\n",
    ")\n",
    "trajectory = Trajectory(\"tBUOH_post_md.traj\", \"w\", mol)\n",
    "dyn.attach(trajectory.write, interval=1)\n",
    "dyn.run(steps=1000)"
   ]
  },
  {
   "cell_type": "code",
   "execution_count": 11,
   "id": "fd7e02bf",
   "metadata": {},
   "outputs": [
    {
     "data": {
      "text/plain": [
       "<Popen: returncode: None args: ['/Users/lpc_0066/anaconda3/envs/fairchem_env...>"
      ]
     },
     "execution_count": 11,
     "metadata": {},
     "output_type": "execute_result"
    },
    {
     "name": "stderr",
     "output_type": "stream",
     "text": [
      "Traceback (most recent call last):\n",
      "  File \"<frozen runpy>\", line 198, in _run_module_as_main\n",
      "  File \"<frozen runpy>\", line 88, in _run_code\n",
      "  File \"/Users/lpc_0066/anaconda3/envs/fairchem_env/lib/python3.11/site-packages/ase/gui/pipe.py\", line 34, in <module>\n",
      "    main()\n",
      "  File \"/Users/lpc_0066/anaconda3/envs/fairchem_env/lib/python3.11/site-packages/ase/gui/pipe.py\", line 30, in main\n",
      "    plt.show()\n",
      "  File \"/Users/lpc_0066/anaconda3/envs/fairchem_env/lib/python3.11/site-packages/matplotlib/pyplot.py\", line 614, in show\n",
      "    return _get_backend_mod().show(*args, **kwargs)\n",
      "           ^^^^^^^^^^^^^^^^^^^^^^^^^^^^^^^^^^^^^^^^\n",
      "  File \"/Users/lpc_0066/anaconda3/envs/fairchem_env/lib/python3.11/site-packages/matplotlib_inline/backend_inline.py\", line 90, in show\n",
      "    display(\n",
      "  File \"/Users/lpc_0066/anaconda3/envs/fairchem_env/lib/python3.11/site-packages/IPython/core/display_functions.py\", line 245, in display\n",
      "    print(*objs)\n",
      "ValueError: I/O operation on closed file.\n"
     ]
    }
   ],
   "source": [
    "# Check after running MD\n",
    "traj_md = Trajectory('tBUOH_post_md.traj')\n",
    "view(traj_md) "
   ]
  }
 ],
 "metadata": {
  "kernelspec": {
   "display_name": "fairchem_env",
   "language": "python",
   "name": "python3"
  },
  "language_info": {
   "codemirror_mode": {
    "name": "ipython",
    "version": 3
   },
   "file_extension": ".py",
   "mimetype": "text/x-python",
   "name": "python",
   "nbconvert_exporter": "python",
   "pygments_lexer": "ipython3",
   "version": "3.11.13"
  }
 },
 "nbformat": 4,
 "nbformat_minor": 5
}
