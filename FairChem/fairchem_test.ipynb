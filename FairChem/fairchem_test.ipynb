{
 "cells": [
  {
   "cell_type": "code",
   "execution_count": null,
   "id": "fab00578",
   "metadata": {},
   "outputs": [
    {
     "name": "stderr",
     "output_type": "stream",
     "text": [
      "/Users/lpc_0066/anaconda3/envs/fairchem_env/lib/python3.11/site-packages/tqdm/auto.py:21: TqdmWarning: IProgress not found. Please update jupyter and ipywidgets. See https://ipywidgets.readthedocs.io/en/stable/user_install.html\n",
      "  from .autonotebook import tqdm as notebook_tqdm\n",
      "W0826 14:40:25.423000 9947 site-packages/torch/distributed/elastic/multiprocessing/redirects.py:29] NOTE: Redirects are currently not supported in Windows or MacOs.\n"
     ]
    },
    {
     "ename": "AssertionError",
     "evalue": "cannot set cpu=false and no cuda available!",
     "output_type": "error",
     "traceback": [
      "\u001b[31m---------------------------------------------------------------------------\u001b[39m",
      "\u001b[31mAssertionError\u001b[39m                            Traceback (most recent call last)",
      "\u001b[36mCell\u001b[39m\u001b[36m \u001b[39m\u001b[32mIn[1]\u001b[39m\u001b[32m, line 5\u001b[39m\n\u001b[32m      2\u001b[39m \u001b[38;5;28;01mfrom\u001b[39;00m\u001b[38;5;250m \u001b[39m\u001b[34;01mase\u001b[39;00m\u001b[34;01m.\u001b[39;00m\u001b[34;01moptimize\u001b[39;00m\u001b[38;5;250m \u001b[39m\u001b[38;5;28;01mimport\u001b[39;00m LBFGS\n\u001b[32m      3\u001b[39m \u001b[38;5;28;01mfrom\u001b[39;00m\u001b[38;5;250m \u001b[39m\u001b[34;01mfairchem\u001b[39;00m\u001b[34;01m.\u001b[39;00m\u001b[34;01mcore\u001b[39;00m\u001b[38;5;250m \u001b[39m\u001b[38;5;28;01mimport\u001b[39;00m pretrained_mlip, FAIRChemCalculator\n\u001b[32m----> \u001b[39m\u001b[32m5\u001b[39m predictor = \u001b[43mpretrained_mlip\u001b[49m\u001b[43m.\u001b[49m\u001b[43mget_predict_unit\u001b[49m\u001b[43m(\u001b[49m\u001b[33;43m\"\u001b[39;49m\u001b[33;43muma-s-1p1\u001b[39;49m\u001b[33;43m\"\u001b[39;49m\u001b[43m,\u001b[49m\u001b[43m \u001b[49m\u001b[43mdevice\u001b[49m\u001b[43m=\u001b[49m\u001b[33;43m\"\u001b[39;49m\u001b[33;43mcuda\u001b[39;49m\u001b[33;43m\"\u001b[39;49m\u001b[43m)\u001b[49m\n\u001b[32m      6\u001b[39m calc = FAIRChemCalculator(predictor, task_name=\u001b[33m\"\u001b[39m\u001b[33moc20\u001b[39m\u001b[33m\"\u001b[39m)\n\u001b[32m      8\u001b[39m \u001b[38;5;66;03m# Set up your system as an ASE atoms object\u001b[39;00m\n",
      "\u001b[36mFile \u001b[39m\u001b[32m~/anaconda3/envs/fairchem_env/lib/python3.11/site-packages/fairchem/core/calculate/pretrained_mlip.py:111\u001b[39m, in \u001b[36mget_predict_unit\u001b[39m\u001b[34m(model_name, inference_settings, overrides, device, cache_dir)\u001b[39m\n\u001b[32m    103\u001b[39m checkpoint_path = hf_hub_download(\n\u001b[32m    104\u001b[39m     filename=model_checkpoint.filename,\n\u001b[32m    105\u001b[39m     repo_id=model_checkpoint.repo_id,\n\u001b[32m   (...)\u001b[39m\u001b[32m    108\u001b[39m     cache_dir=cache_dir,\n\u001b[32m    109\u001b[39m )\n\u001b[32m    110\u001b[39m atom_refs = get_isolated_atomic_energies(model_name, cache_dir)\n\u001b[32m--> \u001b[39m\u001b[32m111\u001b[39m \u001b[38;5;28;01mreturn\u001b[39;00m \u001b[43mload_predict_unit\u001b[49m\u001b[43m(\u001b[49m\n\u001b[32m    112\u001b[39m \u001b[43m    \u001b[49m\u001b[43mcheckpoint_path\u001b[49m\u001b[43m,\u001b[49m\u001b[43m \u001b[49m\u001b[43minference_settings\u001b[49m\u001b[43m,\u001b[49m\u001b[43m \u001b[49m\u001b[43moverrides\u001b[49m\u001b[43m,\u001b[49m\u001b[43m \u001b[49m\u001b[43mdevice\u001b[49m\u001b[43m,\u001b[49m\u001b[43m \u001b[49m\u001b[43matom_refs\u001b[49m\n\u001b[32m    113\u001b[39m \u001b[43m\u001b[49m\u001b[43m)\u001b[49m\n",
      "\u001b[36mFile \u001b[39m\u001b[32m~/anaconda3/envs/fairchem_env/lib/python3.11/site-packages/fairchem/core/units/mlip_unit/__init__.py:54\u001b[39m, in \u001b[36mload_predict_unit\u001b[39m\u001b[34m(path, inference_settings, overrides, device, atom_refs)\u001b[39m\n\u001b[32m     51\u001b[39m inference_settings = guess_inference_settings(inference_settings)\n\u001b[32m     52\u001b[39m overrides = overrides \u001b[38;5;129;01mor\u001b[39;00m {\u001b[33m\"\u001b[39m\u001b[33mbackbone\u001b[39m\u001b[33m\"\u001b[39m: {\u001b[33m\"\u001b[39m\u001b[33malways_use_pbc\u001b[39m\u001b[33m\"\u001b[39m: \u001b[38;5;28;01mFalse\u001b[39;00m}}\n\u001b[32m---> \u001b[39m\u001b[32m54\u001b[39m \u001b[38;5;28;01mreturn\u001b[39;00m \u001b[43mMLIPPredictUnit\u001b[49m\u001b[43m(\u001b[49m\n\u001b[32m     55\u001b[39m \u001b[43m    \u001b[49m\u001b[43mpath\u001b[49m\u001b[43m,\u001b[49m\n\u001b[32m     56\u001b[39m \u001b[43m    \u001b[49m\u001b[43mdevice\u001b[49m\u001b[43m=\u001b[49m\u001b[43mdevice\u001b[49m\u001b[43m,\u001b[49m\n\u001b[32m     57\u001b[39m \u001b[43m    \u001b[49m\u001b[43minference_settings\u001b[49m\u001b[43m=\u001b[49m\u001b[43minference_settings\u001b[49m\u001b[43m,\u001b[49m\n\u001b[32m     58\u001b[39m \u001b[43m    \u001b[49m\u001b[43moverrides\u001b[49m\u001b[43m=\u001b[49m\u001b[43moverrides\u001b[49m\u001b[43m,\u001b[49m\n\u001b[32m     59\u001b[39m \u001b[43m    \u001b[49m\u001b[43matom_refs\u001b[49m\u001b[43m=\u001b[49m\u001b[43matom_refs\u001b[49m\u001b[43m,\u001b[49m\n\u001b[32m     60\u001b[39m \u001b[43m\u001b[49m\u001b[43m)\u001b[49m\n",
      "\u001b[36mFile \u001b[39m\u001b[32m~/anaconda3/envs/fairchem_env/lib/python3.11/site-packages/fairchem/core/units/mlip_unit/predict.py:126\u001b[39m, in \u001b[36mMLIPPredictUnit.__init__\u001b[39m\u001b[34m(self, inference_model_path, device, overrides, inference_settings, seed, atom_refs)\u001b[39m\n\u001b[32m    121\u001b[39m \u001b[38;5;28;01massert\u001b[39;00m \u001b[38;5;28mset\u001b[39m(\u001b[38;5;28mself\u001b[39m.dataset_to_tasks.keys()).issubset(\n\u001b[32m    122\u001b[39m     \u001b[38;5;28mset\u001b[39m(\u001b[38;5;28mself\u001b[39m.datasets)\n\u001b[32m    123\u001b[39m ), \u001b[33m\"\u001b[39m\u001b[33mDatasets in tasks is not a strict subset of datasets in backbone.\u001b[39m\u001b[33m\"\u001b[39m\n\u001b[32m    124\u001b[39m \u001b[38;5;28;01massert\u001b[39;00m device \u001b[38;5;129;01min\u001b[39;00m [\u001b[33m\"\u001b[39m\u001b[33mcpu\u001b[39m\u001b[33m\"\u001b[39m, \u001b[33m\"\u001b[39m\u001b[33mcuda\u001b[39m\u001b[33m\"\u001b[39m], \u001b[33m\"\u001b[39m\u001b[33mdevice must be either \u001b[39m\u001b[33m'\u001b[39m\u001b[33mcpu\u001b[39m\u001b[33m'\u001b[39m\u001b[33m or \u001b[39m\u001b[33m'\u001b[39m\u001b[33mcuda\u001b[39m\u001b[33m'\u001b[39m\u001b[33m\"\u001b[39m\n\u001b[32m--> \u001b[39m\u001b[32m126\u001b[39m \u001b[38;5;28mself\u001b[39m.device = \u001b[43mget_device_for_local_rank\u001b[49m\u001b[43m(\u001b[49m\u001b[43m)\u001b[49m \u001b[38;5;28;01mif\u001b[39;00m device == \u001b[33m\"\u001b[39m\u001b[33mcuda\u001b[39m\u001b[33m\"\u001b[39m \u001b[38;5;28;01melse\u001b[39;00m \u001b[33m\"\u001b[39m\u001b[33mcpu\u001b[39m\u001b[33m\"\u001b[39m\n\u001b[32m    128\u001b[39m \u001b[38;5;28mself\u001b[39m.model.eval()\n\u001b[32m    130\u001b[39m \u001b[38;5;28mself\u001b[39m.lazy_model_intialized = \u001b[38;5;28;01mFalse\u001b[39;00m\n",
      "\u001b[36mFile \u001b[39m\u001b[32m~/anaconda3/envs/fairchem_env/lib/python3.11/site-packages/fairchem/core/common/distutils.py:260\u001b[39m, in \u001b[36mget_device_for_local_rank\u001b[39m\u001b[34m()\u001b[39m\n\u001b[32m    257\u001b[39m     \u001b[38;5;28;01mreturn\u001b[39;00m os.environ[CURRENT_DEVICE_TYPE_STR]\n\u001b[32m    259\u001b[39m \u001b[38;5;28;01mif\u001b[39;00m \u001b[33m\"\u001b[39m\u001b[33mcuda\u001b[39m\u001b[33m\"\u001b[39m \u001b[38;5;129;01min\u001b[39;00m os.environ[CURRENT_DEVICE_TYPE_STR]:\n\u001b[32m--> \u001b[39m\u001b[32m260\u001b[39m     \u001b[38;5;28;01massert\u001b[39;00m torch.cuda.is_available(), \u001b[33m\"\u001b[39m\u001b[33mcannot set cpu=false and no cuda available!\u001b[39m\u001b[33m\"\u001b[39m\n\u001b[32m    261\u001b[39m     \u001b[38;5;28;01mreturn\u001b[39;00m \u001b[33mf\u001b[39m\u001b[33m\"\u001b[39m\u001b[33mcuda:\u001b[39m\u001b[38;5;132;01m{\u001b[39;00mtorch.cuda.current_device()\u001b[38;5;132;01m}\u001b[39;00m\u001b[33m\"\u001b[39m\n\u001b[32m    262\u001b[39m \u001b[38;5;28;01melif\u001b[39;00m os.environ[CURRENT_DEVICE_TYPE_STR] == \u001b[33m\"\u001b[39m\u001b[33mcpu\u001b[39m\u001b[33m\"\u001b[39m:\n",
      "\u001b[31mAssertionError\u001b[39m: cannot set cpu=false and no cuda available!"
     ]
    }
   ],
   "source": [
    "from ase.build import fcc100, add_adsorbate, molecule\n",
    "from ase.optimize import LBFGS\n",
    "from fairchem.core import pretrained_mlip, FAIRChemCalculator\n",
    "\n",
    "predictor = pretrained_mlip.get_predict_unit(\"uma-s-1p1\", device=\"mps\")\n",
    "calc = FAIRChemCalculator(predictor, task_name=\"oc20\")\n",
    "\n",
    "# Set up your system as an ASE atoms object\n",
    "slab = fcc100(\"Cu\", (3, 3, 3), vacuum=8, periodic=True)\n",
    "adsorbate = molecule(\"CO\")\n",
    "add_adsorbate(slab, adsorbate, 2.0, \"bridge\")\n",
    "\n",
    "slab.calc = calc\n",
    "\n",
    "# Set up LBFGS dynamics object\n",
    "opt = LBFGS(slab)\n",
    "opt.run(0.05, 100)"
   ]
  }
 ],
 "metadata": {
  "kernelspec": {
   "display_name": "fairchem_env",
   "language": "python",
   "name": "python3"
  },
  "language_info": {
   "codemirror_mode": {
    "name": "ipython",
    "version": 3
   },
   "file_extension": ".py",
   "mimetype": "text/x-python",
   "name": "python",
   "nbconvert_exporter": "python",
   "pygments_lexer": "ipython3",
   "version": "3.11.13"
  }
 },
 "nbformat": 4,
 "nbformat_minor": 5
}
